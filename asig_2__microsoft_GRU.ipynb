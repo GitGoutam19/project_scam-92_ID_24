{
  "nbformat": 4,
  "nbformat_minor": 0,
  "metadata": {
    "colab": {
      "provenance": []
    },
    "kernelspec": {
      "name": "python3",
      "display_name": "Python 3"
    },
    "language_info": {
      "name": "python"
    }
  },
  "cells": [
    {
      "cell_type": "code",
      "execution_count": null,
      "metadata": {
        "id": "C06YFs3GmJc8"
      },
      "outputs": [],
      "source": []
    },
    {
      "cell_type": "code",
      "execution_count": null,
      "metadata": {
        "id": "9t8AuoK3lOnc"
      },
      "outputs": [],
      "source": [
        "import tensorflow as tf\n",
        "import numpy as np\n",
        "import matplotlib.pyplot as plt\n",
        "import pandas as pd"
      ]
    },
    {
      "cell_type": "markdown",
      "source": [],
      "metadata": {
        "id": "FmOJ80fQf1WN"
      }
    },
    {
      "cell_type": "code",
      "execution_count": null,
      "metadata": {
        "id": "cuw2aXZElzWT"
      },
      "outputs": [],
      "source": [
        "df=pd.read_csv('MSFT.csv')# this is the microsoft dataset downloaded from yahoo finance"
      ]
    },
    {
      "cell_type": "code",
      "execution_count": null,
      "metadata": {
        "id": "k8bQjhdSl6rv"
      },
      "outputs": [],
      "source": [
        "dff= df[['Close']]  # Select  'Close' columns"
      ]
    },
    {
      "cell_type": "code",
      "execution_count": null,
      "metadata": {
        "id": "Za4rQ9cv1rfv"
      },
      "outputs": [],
      "source": []
    },
    {
      "cell_type": "code",
      "execution_count": null,
      "metadata": {
        "colab": {
          "base_uri": "https://localhost:8080/",
          "height": 206
        },
        "id": "jRKf6EcJq7_X",
        "outputId": "16bba620-e2a1-4870-c85b-3d869bec6b26"
      },
      "outputs": [
        {
          "output_type": "execute_result",
          "data": {
            "text/plain": [
              "      Close\n",
              "0  0.097222\n",
              "1  0.100694\n",
              "2  0.102431\n",
              "3  0.099826\n",
              "4  0.098090"
            ],
            "text/html": [
              "\n",
              "  <div id=\"df-c5baa415-ad22-42ef-a8b7-8afaf6dc44b7\" class=\"colab-df-container\">\n",
              "    <div>\n",
              "<style scoped>\n",
              "    .dataframe tbody tr th:only-of-type {\n",
              "        vertical-align: middle;\n",
              "    }\n",
              "\n",
              "    .dataframe tbody tr th {\n",
              "        vertical-align: top;\n",
              "    }\n",
              "\n",
              "    .dataframe thead th {\n",
              "        text-align: right;\n",
              "    }\n",
              "</style>\n",
              "<table border=\"1\" class=\"dataframe\">\n",
              "  <thead>\n",
              "    <tr style=\"text-align: right;\">\n",
              "      <th></th>\n",
              "      <th>Close</th>\n",
              "    </tr>\n",
              "  </thead>\n",
              "  <tbody>\n",
              "    <tr>\n",
              "      <th>0</th>\n",
              "      <td>0.097222</td>\n",
              "    </tr>\n",
              "    <tr>\n",
              "      <th>1</th>\n",
              "      <td>0.100694</td>\n",
              "    </tr>\n",
              "    <tr>\n",
              "      <th>2</th>\n",
              "      <td>0.102431</td>\n",
              "    </tr>\n",
              "    <tr>\n",
              "      <th>3</th>\n",
              "      <td>0.099826</td>\n",
              "    </tr>\n",
              "    <tr>\n",
              "      <th>4</th>\n",
              "      <td>0.098090</td>\n",
              "    </tr>\n",
              "  </tbody>\n",
              "</table>\n",
              "</div>\n",
              "    <div class=\"colab-df-buttons\">\n",
              "\n",
              "  <div class=\"colab-df-container\">\n",
              "    <button class=\"colab-df-convert\" onclick=\"convertToInteractive('df-c5baa415-ad22-42ef-a8b7-8afaf6dc44b7')\"\n",
              "            title=\"Convert this dataframe to an interactive table.\"\n",
              "            style=\"display:none;\">\n",
              "\n",
              "  <svg xmlns=\"http://www.w3.org/2000/svg\" height=\"24px\" viewBox=\"0 -960 960 960\">\n",
              "    <path d=\"M120-120v-720h720v720H120Zm60-500h600v-160H180v160Zm220 220h160v-160H400v160Zm0 220h160v-160H400v160ZM180-400h160v-160H180v160Zm440 0h160v-160H620v160ZM180-180h160v-160H180v160Zm440 0h160v-160H620v160Z\"/>\n",
              "  </svg>\n",
              "    </button>\n",
              "\n",
              "  <style>\n",
              "    .colab-df-container {\n",
              "      display:flex;\n",
              "      gap: 12px;\n",
              "    }\n",
              "\n",
              "    .colab-df-convert {\n",
              "      background-color: #E8F0FE;\n",
              "      border: none;\n",
              "      border-radius: 50%;\n",
              "      cursor: pointer;\n",
              "      display: none;\n",
              "      fill: #1967D2;\n",
              "      height: 32px;\n",
              "      padding: 0 0 0 0;\n",
              "      width: 32px;\n",
              "    }\n",
              "\n",
              "    .colab-df-convert:hover {\n",
              "      background-color: #E2EBFA;\n",
              "      box-shadow: 0px 1px 2px rgba(60, 64, 67, 0.3), 0px 1px 3px 1px rgba(60, 64, 67, 0.15);\n",
              "      fill: #174EA6;\n",
              "    }\n",
              "\n",
              "    .colab-df-buttons div {\n",
              "      margin-bottom: 4px;\n",
              "    }\n",
              "\n",
              "    [theme=dark] .colab-df-convert {\n",
              "      background-color: #3B4455;\n",
              "      fill: #D2E3FC;\n",
              "    }\n",
              "\n",
              "    [theme=dark] .colab-df-convert:hover {\n",
              "      background-color: #434B5C;\n",
              "      box-shadow: 0px 1px 3px 1px rgba(0, 0, 0, 0.15);\n",
              "      filter: drop-shadow(0px 1px 2px rgba(0, 0, 0, 0.3));\n",
              "      fill: #FFFFFF;\n",
              "    }\n",
              "  </style>\n",
              "\n",
              "    <script>\n",
              "      const buttonEl =\n",
              "        document.querySelector('#df-c5baa415-ad22-42ef-a8b7-8afaf6dc44b7 button.colab-df-convert');\n",
              "      buttonEl.style.display =\n",
              "        google.colab.kernel.accessAllowed ? 'block' : 'none';\n",
              "\n",
              "      async function convertToInteractive(key) {\n",
              "        const element = document.querySelector('#df-c5baa415-ad22-42ef-a8b7-8afaf6dc44b7');\n",
              "        const dataTable =\n",
              "          await google.colab.kernel.invokeFunction('convertToInteractive',\n",
              "                                                    [key], {});\n",
              "        if (!dataTable) return;\n",
              "\n",
              "        const docLinkHtml = 'Like what you see? Visit the ' +\n",
              "          '<a target=\"_blank\" href=https://colab.research.google.com/notebooks/data_table.ipynb>data table notebook</a>'\n",
              "          + ' to learn more about interactive tables.';\n",
              "        element.innerHTML = '';\n",
              "        dataTable['output_type'] = 'display_data';\n",
              "        await google.colab.output.renderOutput(dataTable, element);\n",
              "        const docLink = document.createElement('div');\n",
              "        docLink.innerHTML = docLinkHtml;\n",
              "        element.appendChild(docLink);\n",
              "      }\n",
              "    </script>\n",
              "  </div>\n",
              "\n",
              "\n",
              "<div id=\"df-8e9c8c3e-01ca-46cc-9f73-21a5363576ad\">\n",
              "  <button class=\"colab-df-quickchart\" onclick=\"quickchart('df-8e9c8c3e-01ca-46cc-9f73-21a5363576ad')\"\n",
              "            title=\"Suggest charts\"\n",
              "            style=\"display:none;\">\n",
              "\n",
              "<svg xmlns=\"http://www.w3.org/2000/svg\" height=\"24px\"viewBox=\"0 0 24 24\"\n",
              "     width=\"24px\">\n",
              "    <g>\n",
              "        <path d=\"M19 3H5c-1.1 0-2 .9-2 2v14c0 1.1.9 2 2 2h14c1.1 0 2-.9 2-2V5c0-1.1-.9-2-2-2zM9 17H7v-7h2v7zm4 0h-2V7h2v10zm4 0h-2v-4h2v4z\"/>\n",
              "    </g>\n",
              "</svg>\n",
              "  </button>\n",
              "\n",
              "<style>\n",
              "  .colab-df-quickchart {\n",
              "      --bg-color: #E8F0FE;\n",
              "      --fill-color: #1967D2;\n",
              "      --hover-bg-color: #E2EBFA;\n",
              "      --hover-fill-color: #174EA6;\n",
              "      --disabled-fill-color: #AAA;\n",
              "      --disabled-bg-color: #DDD;\n",
              "  }\n",
              "\n",
              "  [theme=dark] .colab-df-quickchart {\n",
              "      --bg-color: #3B4455;\n",
              "      --fill-color: #D2E3FC;\n",
              "      --hover-bg-color: #434B5C;\n",
              "      --hover-fill-color: #FFFFFF;\n",
              "      --disabled-bg-color: #3B4455;\n",
              "      --disabled-fill-color: #666;\n",
              "  }\n",
              "\n",
              "  .colab-df-quickchart {\n",
              "    background-color: var(--bg-color);\n",
              "    border: none;\n",
              "    border-radius: 50%;\n",
              "    cursor: pointer;\n",
              "    display: none;\n",
              "    fill: var(--fill-color);\n",
              "    height: 32px;\n",
              "    padding: 0;\n",
              "    width: 32px;\n",
              "  }\n",
              "\n",
              "  .colab-df-quickchart:hover {\n",
              "    background-color: var(--hover-bg-color);\n",
              "    box-shadow: 0 1px 2px rgba(60, 64, 67, 0.3), 0 1px 3px 1px rgba(60, 64, 67, 0.15);\n",
              "    fill: var(--button-hover-fill-color);\n",
              "  }\n",
              "\n",
              "  .colab-df-quickchart-complete:disabled,\n",
              "  .colab-df-quickchart-complete:disabled:hover {\n",
              "    background-color: var(--disabled-bg-color);\n",
              "    fill: var(--disabled-fill-color);\n",
              "    box-shadow: none;\n",
              "  }\n",
              "\n",
              "  .colab-df-spinner {\n",
              "    border: 2px solid var(--fill-color);\n",
              "    border-color: transparent;\n",
              "    border-bottom-color: var(--fill-color);\n",
              "    animation:\n",
              "      spin 1s steps(1) infinite;\n",
              "  }\n",
              "\n",
              "  @keyframes spin {\n",
              "    0% {\n",
              "      border-color: transparent;\n",
              "      border-bottom-color: var(--fill-color);\n",
              "      border-left-color: var(--fill-color);\n",
              "    }\n",
              "    20% {\n",
              "      border-color: transparent;\n",
              "      border-left-color: var(--fill-color);\n",
              "      border-top-color: var(--fill-color);\n",
              "    }\n",
              "    30% {\n",
              "      border-color: transparent;\n",
              "      border-left-color: var(--fill-color);\n",
              "      border-top-color: var(--fill-color);\n",
              "      border-right-color: var(--fill-color);\n",
              "    }\n",
              "    40% {\n",
              "      border-color: transparent;\n",
              "      border-right-color: var(--fill-color);\n",
              "      border-top-color: var(--fill-color);\n",
              "    }\n",
              "    60% {\n",
              "      border-color: transparent;\n",
              "      border-right-color: var(--fill-color);\n",
              "    }\n",
              "    80% {\n",
              "      border-color: transparent;\n",
              "      border-right-color: var(--fill-color);\n",
              "      border-bottom-color: var(--fill-color);\n",
              "    }\n",
              "    90% {\n",
              "      border-color: transparent;\n",
              "      border-bottom-color: var(--fill-color);\n",
              "    }\n",
              "  }\n",
              "</style>\n",
              "\n",
              "  <script>\n",
              "    async function quickchart(key) {\n",
              "      const quickchartButtonEl =\n",
              "        document.querySelector('#' + key + ' button');\n",
              "      quickchartButtonEl.disabled = true;  // To prevent multiple clicks.\n",
              "      quickchartButtonEl.classList.add('colab-df-spinner');\n",
              "      try {\n",
              "        const charts = await google.colab.kernel.invokeFunction(\n",
              "            'suggestCharts', [key], {});\n",
              "      } catch (error) {\n",
              "        console.error('Error during call to suggestCharts:', error);\n",
              "      }\n",
              "      quickchartButtonEl.classList.remove('colab-df-spinner');\n",
              "      quickchartButtonEl.classList.add('colab-df-quickchart-complete');\n",
              "    }\n",
              "    (() => {\n",
              "      let quickchartButtonEl =\n",
              "        document.querySelector('#df-8e9c8c3e-01ca-46cc-9f73-21a5363576ad button');\n",
              "      quickchartButtonEl.style.display =\n",
              "        google.colab.kernel.accessAllowed ? 'block' : 'none';\n",
              "    })();\n",
              "  </script>\n",
              "</div>\n",
              "\n",
              "    </div>\n",
              "  </div>\n"
            ],
            "application/vnd.google.colaboratory.intrinsic+json": {
              "type": "dataframe",
              "variable_name": "dff",
              "summary": "{\n  \"name\": \"dff\",\n  \"rows\": 9644,\n  \"fields\": [\n    {\n      \"column\": \"Close\",\n      \"properties\": {\n        \"dtype\": \"number\",\n        \"std\": 87.8014097771512,\n        \"min\": 0.090278,\n        \"max\": 448.369995,\n        \"num_unique_values\": 5911,\n        \"samples\": [\n          258.350006,\n          48.21875,\n          70.099998\n        ],\n        \"semantic_type\": \"\",\n        \"description\": \"\"\n      }\n    }\n  ]\n}"
            }
          },
          "metadata": {},
          "execution_count": 11
        }
      ],
      "source": [
        "dff.head()"
      ]
    },
    {
      "cell_type": "code",
      "execution_count": null,
      "metadata": {
        "id": "nvf4rS8clZ_I"
      },
      "outputs": [],
      "source": [
        "# Define the split time\n",
        "split_time = -30\n",
        "x_train = dff['Close'][:split_time]\n",
        "\n"
      ]
    },
    {
      "cell_type": "code",
      "execution_count": null,
      "metadata": {
        "id": "SqjmqO_zugFY"
      },
      "outputs": [],
      "source": [
        "from sklearn.preprocessing import MinMaxScaler\n",
        "x_train = np.array(x_train).reshape(-1, 1)\n",
        "scaler = MinMaxScaler(feature_range=(0, 1))\n",
        "x_train = scaler.fit_transform(x_train)\n",
        "\n"
      ]
    },
    {
      "cell_type": "code",
      "execution_count": null,
      "metadata": {
        "colab": {
          "base_uri": "https://localhost:8080/"
        },
        "id": "OzChjAJZr8ju",
        "outputId": "4561c061-474e-4b80-c3da-c0402beaf166"
      },
      "outputs": [
        {
          "output_type": "execute_result",
          "data": {
            "text/plain": [
              "array([[1.61759331e-05],\n",
              "       [2.42638997e-05],\n",
              "       [2.83102125e-05],\n",
              "       ...,\n",
              "       [9.26551389e-01],\n",
              "       [9.47097452e-01],\n",
              "       [9.63124309e-01]])"
            ]
          },
          "metadata": {},
          "execution_count": 14
        }
      ],
      "source": [
        "x_train"
      ]
    },
    {
      "cell_type": "code",
      "execution_count": null,
      "metadata": {
        "id": "G_j_2_Mqwn7-"
      },
      "outputs": [],
      "source": [
        "# Parameters\n",
        "window_size = 30\n",
        "batch_size = 32\n",
        "shuffle_buffer_size = 1000"
      ]
    },
    {
      "cell_type": "code",
      "execution_count": null,
      "metadata": {
        "id": "4sTTIOCbyShY"
      },
      "outputs": [],
      "source": [
        "def windowed_dataset(series, window_size, batch_size, shuffle_buffer):\n",
        "    \"\"\"Generates dataset windows\n",
        "\n",
        "    Args:\n",
        "      series (array of float) - contains the values of the time series\n",
        "      window_size (int) - the number of time steps to include in the feature\n",
        "      batch_size (int) - the batch size\n",
        "      shuffle_buffer(int) - buffer size to use for the shuffle method\n",
        "\n",
        "    Returns:\n",
        "      dataset (TF Dataset) - TF Dataset containing time windows\n",
        "    \"\"\"\n",
        "\n",
        "    # Generate a TF Dataset from the series values\n",
        "    dataset = tf.data.Dataset.from_tensor_slices(series)\n",
        "\n",
        "    # Window the data but only take those with the specified size\n",
        "    dataset = dataset.window(window_size + 1, shift=1, drop_remainder=True)\n",
        "\n",
        "    # Flatten the windows by putting its elements in a single batch\n",
        "    dataset = dataset.flat_map(lambda window: window.batch(window_size + 1))\n",
        "\n",
        "    # Create tuples with features and labels\n",
        "    dataset = dataset.map(lambda window: (window[:-1], window[-1]))\n",
        "\n",
        "    # Shuffle the windows\n",
        "  #  dataset = dataset.shuffle(shuffle_buffer)\n",
        "\n",
        "    # Create batches of windows\n",
        "    dataset = dataset.batch(batch_size).prefetch(1)\n",
        "\n",
        "    return dataset"
      ]
    },
    {
      "cell_type": "code",
      "execution_count": null,
      "metadata": {
        "id": "a9-_fEfmujpS"
      },
      "outputs": [],
      "source": [
        "dataset = windowed_dataset(x_train, window_size, batch_size, shuffle_buffer_size)\n"
      ]
    },
    {
      "cell_type": "code",
      "execution_count": null,
      "metadata": {
        "id": "A1Hl39rklkLm"
      },
      "outputs": [],
      "source": [
        "# Build the Model\n",
        "model_tune = tf.keras.models.Sequential([\n",
        "    tf.keras.layers.Lambda(lambda x: tf.expand_dims(x, axis=-1), input_shape=[window_size]),\n",
        "    tf.keras.layers.Bidirectional(tf.keras.layers.GRU(64, return_sequences=True)),\n",
        "    tf.keras.layers.Dropout(0.2),\n",
        "    tf.keras.layers.Bidirectional(tf.keras.layers.GRU(64, return_sequences=True)),\n",
        "    tf.keras.layers.Dropout(0.2),\n",
        "    tf.keras.layers.Bidirectional(tf.keras.layers.GRU(32)),\n",
        "    tf.keras.layers.Dense(1),\n",
        "    tf.keras.layers.Lambda(lambda x: x * 100.0)\n",
        "])\n",
        "\n",
        "model_tune.summary()"
      ]
    },
    {
      "cell_type": "code",
      "execution_count": null,
      "metadata": {
        "id": "qE7al18qw48G"
      },
      "outputs": [],
      "source": [
        "# Set the learning rate scheduler\n",
        "lr_schedule = tf.keras.callbacks.LearningRateScheduler(\n",
        "    lambda epoch: 1e-8 * 10**(epoch / 20))\n",
        "\n",
        "# Initialize the optimizer\n",
        "optimizer = tf.keras.optimizers.SGD(momentum=0.9)\n",
        "\n",
        "# Set the training parameters\n",
        "model_tune.compile(loss=tf.keras.losses.Huber(), optimizer=optimizer)\n",
        "\n",
        "# Train the model\n",
        "history = model_tune.fit(dataset, epochs=100, callbacks=[lr_schedule])"
      ]
    },
    {
      "cell_type": "code",
      "execution_count": null,
      "metadata": {
        "id": "MAdMvWsyu21m",
        "colab": {
          "base_uri": "https://localhost:8080/",
          "height": 730
        },
        "outputId": "31716fcb-e79a-4121-86b4-f2d521bf4cc1"
      },
      "outputs": [
        {
          "output_type": "error",
          "ename": "NameError",
          "evalue": "name 'history' is not defined",
          "traceback": [
            "\u001b[0;31m---------------------------------------------------------------------------\u001b[0m",
            "\u001b[0;31mNameError\u001b[0m                                 Traceback (most recent call last)",
            "\u001b[0;32m<ipython-input-11-c95c2d2a6314>\u001b[0m in \u001b[0;36m<cell line: 11>\u001b[0;34m()\u001b[0m\n\u001b[1;32m      9\u001b[0m \u001b[0;34m\u001b[0m\u001b[0m\n\u001b[1;32m     10\u001b[0m \u001b[0;31m# Plot the loss in log scale\u001b[0m\u001b[0;34m\u001b[0m\u001b[0;34m\u001b[0m\u001b[0m\n\u001b[0;32m---> 11\u001b[0;31m \u001b[0mplt\u001b[0m\u001b[0;34m.\u001b[0m\u001b[0msemilogx\u001b[0m\u001b[0;34m(\u001b[0m\u001b[0mlrs\u001b[0m\u001b[0;34m,\u001b[0m \u001b[0mhistory\u001b[0m\u001b[0;34m.\u001b[0m\u001b[0mhistory\u001b[0m\u001b[0;34m[\u001b[0m\u001b[0;34m\"loss\"\u001b[0m\u001b[0;34m]\u001b[0m\u001b[0;34m)\u001b[0m\u001b[0;34m\u001b[0m\u001b[0;34m\u001b[0m\u001b[0m\n\u001b[0m\u001b[1;32m     12\u001b[0m \u001b[0;34m\u001b[0m\u001b[0m\n\u001b[1;32m     13\u001b[0m \u001b[0;31m# Increase the tickmarks size\u001b[0m\u001b[0;34m\u001b[0m\u001b[0;34m\u001b[0m\u001b[0m\n",
            "\u001b[0;31mNameError\u001b[0m: name 'history' is not defined"
          ]
        },
        {
          "output_type": "display_data",
          "data": {
            "text/plain": [
              "<Figure size 1000x600 with 1 Axes>"
            ],
            "image/png": "[encoded data removed]"
          },
          "metadata": {}
        }
      ],
      "source": [
        "# Define the learning rate array\n",
        "lrs = 1e-8 * (10 ** (np.arange(100) / 20))\n",
        "\n",
        "# Set the figure size\n",
        "plt.figure(figsize=(10, 6))\n",
        "\n",
        "# Set the grid\n",
        "plt.grid(True)\n",
        "\n",
        "# Plot the loss in log scale\n",
        "plt.semilogx(lrs, history.history[\"loss\"])\n",
        "\n",
        "# Increase the tickmarks size\n",
        "plt.tick_params('both', length=10, width=1, which='both')\n",
        "\n",
        "# Set the plot boundaries\n",
        "plt.axis([1e-8, 1e-3, 0, 30])"
      ]
    },
    {
      "cell_type": "code",
      "execution_count": null,
      "metadata": {
        "id": "kr2QOzXnxPjC"
      },
      "outputs": [],
      "source": []
    },
    {
      "cell_type": "code",
      "execution_count": null,
      "metadata": {
        "id": "4uh-97bpLZCA",
        "colab": {
          "base_uri": "https://localhost:8080/"
        },
        "outputId": "37e5d213-e05d-4b15-e697-d29f4ffb2cf8"
      },
      "outputs": [
        {
          "output_type": "stream",
          "name": "stdout",
          "text": [
            "Epoch 1/100\n",
            "300/300 [==============================] - 38s 88ms/step - loss: 0.1813 - mae: 0.3841\n",
            "Epoch 2/100\n",
            "300/300 [==============================] - 26s 88ms/step - loss: 0.5400 - mae: 0.9158\n",
            "Epoch 3/100\n",
            "300/300 [==============================] - 26s 87ms/step - loss: 0.5065 - mae: 0.7780\n",
            "Epoch 4/100\n",
            "300/300 [==============================] - 26s 86ms/step - loss: 0.4023 - mae: 0.6281\n",
            "Epoch 5/100\n",
            "300/300 [==============================] - 26s 88ms/step - loss: 0.1670 - mae: 0.3492\n",
            "Epoch 6/100\n",
            "300/300 [==============================] - 31s 103ms/step - loss: 0.0899 - mae: 0.2573\n",
            "Epoch 7/100\n",
            "300/300 [==============================] - 26s 88ms/step - loss: 0.1015 - mae: 0.2523\n",
            "Epoch 8/100\n",
            "300/300 [==============================] - 26s 87ms/step - loss: 0.0967 - mae: 0.2691\n",
            "Epoch 9/100\n",
            "300/300 [==============================] - 26s 88ms/step - loss: 0.2158 - mae: 0.3981\n",
            "Epoch 10/100\n",
            "300/300 [==============================] - 27s 90ms/step - loss: 0.1180 - mae: 0.2642\n",
            "Epoch 11/100\n",
            "300/300 [==============================] - 25s 85ms/step - loss: 0.0708 - mae: 0.2071\n",
            "Epoch 12/100\n",
            "300/300 [==============================] - 26s 87ms/step - loss: 0.0719 - mae: 0.2052\n",
            "Epoch 13/100\n",
            "300/300 [==============================] - 25s 83ms/step - loss: 0.0409 - mae: 0.1577\n",
            "Epoch 14/100\n",
            "300/300 [==============================] - 25s 84ms/step - loss: 0.0468 - mae: 0.1672\n",
            "Epoch 15/100\n",
            "300/300 [==============================] - 24s 81ms/step - loss: 0.0403 - mae: 0.1569\n",
            "Epoch 16/100\n",
            "300/300 [==============================] - 25s 83ms/step - loss: 0.0279 - mae: 0.1313\n",
            "Epoch 17/100\n",
            "300/300 [==============================] - 25s 84ms/step - loss: 0.0360 - mae: 0.1550\n",
            "Epoch 18/100\n",
            "300/300 [==============================] - 25s 84ms/step - loss: 0.0595 - mae: 0.1829\n",
            "Epoch 19/100\n",
            "300/300 [==============================] - 25s 85ms/step - loss: 0.0530 - mae: 0.1762\n",
            "Epoch 20/100\n",
            "300/300 [==============================] - 25s 82ms/step - loss: 0.0539 - mae: 0.1752\n",
            "Epoch 21/100\n",
            "300/300 [==============================] - 25s 84ms/step - loss: 0.0610 - mae: 0.1782\n",
            "Epoch 22/100\n",
            "300/300 [==============================] - 25s 84ms/step - loss: 0.0345 - mae: 0.1375\n",
            "Epoch 23/100\n",
            "300/300 [==============================] - 26s 85ms/step - loss: 0.0145 - mae: 0.0946\n",
            "Epoch 24/100\n",
            "300/300 [==============================] - 24s 81ms/step - loss: 0.0132 - mae: 0.0935\n",
            "Epoch 25/100\n",
            "300/300 [==============================] - 25s 84ms/step - loss: 0.0119 - mae: 0.0856\n",
            "Epoch 26/100\n",
            "300/300 [==============================] - 26s 87ms/step - loss: 0.0153 - mae: 0.0974\n",
            "Epoch 27/100\n",
            "300/300 [==============================] - 27s 89ms/step - loss: 0.0242 - mae: 0.1186\n",
            "Epoch 28/100\n",
            "300/300 [==============================] - 26s 87ms/step - loss: 0.0160 - mae: 0.1050\n",
            "Epoch 29/100\n",
            "300/300 [==============================] - 26s 87ms/step - loss: 0.0234 - mae: 0.1149\n",
            "Epoch 30/100\n",
            "300/300 [==============================] - 26s 88ms/step - loss: 0.0347 - mae: 0.1338\n",
            "Epoch 31/100\n",
            "300/300 [==============================] - 26s 87ms/step - loss: 0.0389 - mae: 0.1370\n",
            "Epoch 32/100\n",
            "300/300 [==============================] - 26s 86ms/step - loss: 0.0247 - mae: 0.1180\n",
            "Epoch 33/100\n",
            "300/300 [==============================] - 26s 87ms/step - loss: 0.0203 - mae: 0.1073\n",
            "Epoch 34/100\n",
            "300/300 [==============================] - 26s 87ms/step - loss: 0.0307 - mae: 0.1220\n",
            "Epoch 35/100\n",
            "300/300 [==============================] - 26s 87ms/step - loss: 0.0229 - mae: 0.1102\n",
            "Epoch 36/100\n",
            "300/300 [==============================] - 26s 87ms/step - loss: 0.0166 - mae: 0.0997\n",
            "Epoch 37/100\n",
            "300/300 [==============================] - 26s 88ms/step - loss: 0.0101 - mae: 0.0782\n",
            "Epoch 38/100\n",
            "300/300 [==============================] - 26s 87ms/step - loss: 0.0068 - mae: 0.0668\n",
            "Epoch 39/100\n",
            "300/300 [==============================] - 26s 88ms/step - loss: 0.0073 - mae: 0.0656\n",
            "Epoch 40/100\n",
            "300/300 [==============================] - 26s 87ms/step - loss: 0.0067 - mae: 0.0679\n",
            "Epoch 41/100\n",
            "300/300 [==============================] - 26s 88ms/step - loss: 0.0064 - mae: 0.0628\n",
            "Epoch 42/100\n",
            "300/300 [==============================] - 26s 86ms/step - loss: 0.0069 - mae: 0.0666\n",
            "Epoch 43/100\n",
            "300/300 [==============================] - 26s 87ms/step - loss: 0.0057 - mae: 0.0600\n",
            "Epoch 44/100\n",
            "300/300 [==============================] - 26s 87ms/step - loss: 0.0070 - mae: 0.0654\n",
            "Epoch 45/100\n",
            "300/300 [==============================] - 26s 87ms/step - loss: 0.0053 - mae: 0.0561\n",
            "Epoch 46/100\n",
            "300/300 [==============================] - 25s 83ms/step - loss: 0.0065 - mae: 0.0635\n",
            "Epoch 47/100\n",
            "300/300 [==============================] - 25s 85ms/step - loss: 0.0078 - mae: 0.0696\n",
            "Epoch 48/100\n",
            "300/300 [==============================] - 25s 84ms/step - loss: 0.0083 - mae: 0.0741\n",
            "Epoch 49/100\n",
            "300/300 [==============================] - 25s 84ms/step - loss: 0.0104 - mae: 0.0769\n",
            "Epoch 50/100\n",
            "300/300 [==============================] - 25s 82ms/step - loss: 0.0089 - mae: 0.0730\n",
            "Epoch 51/100\n",
            "300/300 [==============================] - 26s 88ms/step - loss: 0.0055 - mae: 0.0591\n",
            "Epoch 52/100\n",
            "300/300 [==============================] - 26s 88ms/step - loss: 0.0071 - mae: 0.0670\n",
            "Epoch 53/100\n",
            "300/300 [==============================] - 26s 88ms/step - loss: 0.0056 - mae: 0.0615\n",
            "Epoch 54/100\n",
            "300/300 [==============================] - 26s 87ms/step - loss: 0.0045 - mae: 0.0532\n",
            "Epoch 55/100\n",
            "300/300 [==============================] - 26s 87ms/step - loss: 0.0048 - mae: 0.0543\n",
            "Epoch 56/100\n",
            "300/300 [==============================] - 26s 88ms/step - loss: 0.0052 - mae: 0.0581\n",
            "Epoch 57/100\n",
            "300/300 [==============================] - 26s 87ms/step - loss: 0.0042 - mae: 0.0520\n",
            "Epoch 58/100\n",
            "300/300 [==============================] - 26s 87ms/step - loss: 0.0051 - mae: 0.0567\n",
            "Epoch 59/100\n",
            "300/300 [==============================] - 26s 88ms/step - loss: 0.0073 - mae: 0.0677\n",
            "Epoch 60/100\n",
            "300/300 [==============================] - 26s 88ms/step - loss: 0.0054 - mae: 0.0595\n",
            "Epoch 61/100\n",
            "300/300 [==============================] - 26s 88ms/step - loss: 0.0053 - mae: 0.0586\n",
            "Epoch 62/100\n",
            "300/300 [==============================] - 26s 88ms/step - loss: 0.0091 - mae: 0.0706\n",
            "Epoch 63/100\n",
            "300/300 [==============================] - 26s 86ms/step - loss: 0.0072 - mae: 0.0653\n",
            "Epoch 64/100\n",
            "300/300 [==============================] - 26s 87ms/step - loss: 0.0091 - mae: 0.0719\n",
            "Epoch 65/100\n",
            "300/300 [==============================] - 27s 90ms/step - loss: 0.0048 - mae: 0.0574\n",
            "Epoch 66/100\n",
            "300/300 [==============================] - 26s 86ms/step - loss: 0.0053 - mae: 0.0577\n",
            "Epoch 67/100\n",
            "300/300 [==============================] - 26s 87ms/step - loss: 0.0052 - mae: 0.0575\n",
            "Epoch 68/100\n",
            "300/300 [==============================] - 27s 89ms/step - loss: 0.0033 - mae: 0.0465\n",
            "Epoch 69/100\n",
            "300/300 [==============================] - 26s 87ms/step - loss: 0.0034 - mae: 0.0455\n",
            "Epoch 70/100\n",
            "300/300 [==============================] - 27s 89ms/step - loss: 0.0032 - mae: 0.0453\n",
            "Epoch 71/100\n",
            "300/300 [==============================] - 27s 90ms/step - loss: 0.0037 - mae: 0.0478\n",
            "Epoch 72/100\n",
            "300/300 [==============================] - 26s 88ms/step - loss: 0.0045 - mae: 0.0552\n",
            "Epoch 73/100\n",
            "300/300 [==============================] - 26s 87ms/step - loss: 0.0058 - mae: 0.0603\n",
            "Epoch 74/100\n",
            "300/300 [==============================] - 27s 89ms/step - loss: 0.0051 - mae: 0.0572\n",
            "Epoch 75/100\n",
            "300/300 [==============================] - 26s 86ms/step - loss: 0.0071 - mae: 0.0646\n",
            "Epoch 76/100\n",
            "300/300 [==============================] - 26s 88ms/step - loss: 0.0066 - mae: 0.0631\n",
            "Epoch 77/100\n",
            "300/300 [==============================] - 26s 88ms/step - loss: 0.0058 - mae: 0.0598\n",
            "Epoch 78/100\n",
            "300/300 [==============================] - 26s 88ms/step - loss: 0.0076 - mae: 0.0679\n",
            "Epoch 79/100\n",
            "300/300 [==============================] - 26s 87ms/step - loss: 0.0081 - mae: 0.0688\n",
            "Epoch 80/100\n",
            "300/300 [==============================] - 26s 87ms/step - loss: 0.0065 - mae: 0.0620\n",
            "Epoch 81/100\n",
            "300/300 [==============================] - 26s 87ms/step - loss: 0.0064 - mae: 0.0616\n",
            "Epoch 82/100\n",
            "300/300 [==============================] - 26s 87ms/step - loss: 0.0035 - mae: 0.0483\n",
            "Epoch 83/100\n",
            "300/300 [==============================] - 26s 87ms/step - loss: 0.0032 - mae: 0.0458\n",
            "Epoch 84/100\n",
            "300/300 [==============================] - 27s 88ms/step - loss: 0.0033 - mae: 0.0464\n",
            "Epoch 85/100\n",
            "300/300 [==============================] - 26s 86ms/step - loss: 0.0054 - mae: 0.0570\n",
            "Epoch 86/100\n",
            "300/300 [==============================] - 26s 87ms/step - loss: 0.0038 - mae: 0.0491\n",
            "Epoch 87/100\n",
            "300/300 [==============================] - 26s 88ms/step - loss: 0.0030 - mae: 0.0441\n",
            "Epoch 88/100\n",
            "300/300 [==============================] - 26s 88ms/step - loss: 0.0041 - mae: 0.0505\n",
            "Epoch 89/100\n",
            "300/300 [==============================] - 26s 88ms/step - loss: 0.0035 - mae: 0.0471\n",
            "Epoch 90/100\n",
            "300/300 [==============================] - 26s 87ms/step - loss: 0.0039 - mae: 0.0493\n",
            "Epoch 91/100\n",
            "300/300 [==============================] - 26s 88ms/step - loss: 0.0029 - mae: 0.0441\n",
            "Epoch 92/100\n",
            "300/300 [==============================] - 26s 86ms/step - loss: 0.0027 - mae: 0.0408\n",
            "Epoch 93/100\n",
            "300/300 [==============================] - 28s 92ms/step - loss: 0.0026 - mae: 0.0410\n",
            "Epoch 94/100\n",
            "300/300 [==============================] - 27s 91ms/step - loss: 0.0025 - mae: 0.0396\n",
            "Epoch 95/100\n",
            "300/300 [==============================] - 27s 91ms/step - loss: 0.0025 - mae: 0.0407\n",
            "Epoch 96/100\n",
            "300/300 [==============================] - 27s 91ms/step - loss: 0.0040 - mae: 0.0492\n",
            "Epoch 97/100\n",
            "300/300 [==============================] - 27s 91ms/step - loss: 0.0033 - mae: 0.0469\n",
            "Epoch 98/100\n",
            "300/300 [==============================] - 27s 91ms/step - loss: 0.0044 - mae: 0.0513\n",
            "Epoch 99/100\n",
            "300/300 [==============================] - 27s 90ms/step - loss: 0.0032 - mae: 0.0456\n",
            "Epoch 100/100\n",
            "300/300 [==============================] - 27s 90ms/step - loss: 0.0038 - mae: 0.0498\n"
          ]
        }
      ],
      "source": [
        "# Reset states generated by Keras\n",
        "tf.keras.backend.clear_session()\n",
        "\n",
        "# Build the model\n",
        "# Build the Model\n",
        "model = tf.keras.models.Sequential([\n",
        "    tf.keras.layers.Lambda(lambda x: tf.expand_dims(x, axis=-1), input_shape=[window_size]),\n",
        "    tf.keras.layers.Bidirectional(tf.keras.layers.GRU(64, return_sequences=True)),\n",
        "    tf.keras.layers.Dropout(0.2),\n",
        "    tf.keras.layers.Bidirectional(tf.keras.layers.GRU(64, return_sequences=True)),\n",
        "    tf.keras.layers.Dropout(0.2),\n",
        "    tf.keras.layers.Bidirectional(tf.keras.layers.GRU(32)),\n",
        "    tf.keras.layers.Dense(1),\n",
        "    tf.keras.layers.Lambda(lambda x: x * 100.0)\n",
        "])\n",
        "\n",
        "# Set the learning rate\n",
        "learning_rate = 5e-5\n",
        "\n",
        "# Set the optimizer\n",
        "optimizer = tf.keras.optimizers.SGD(learning_rate=learning_rate, momentum=0.9)\n",
        "\n",
        "# Set the training parameters\n",
        "model.compile(loss=tf.keras.losses.Huber(),\n",
        "              optimizer=optimizer,\n",
        "              metrics=[\"mae\"])\n",
        "\n",
        "# Train the model\n",
        "history = model.fit(dataset,epochs=100)"
      ]
    },
    {
      "cell_type": "code",
      "execution_count": null,
      "metadata": {
        "id": "QO8cfKwKBBG6"
      },
      "outputs": [],
      "source": [
        "def model_forecast(model, series, window_size, batch_size):\n",
        "    \"\"\"Uses an input model to generate predictions on data windows\n",
        "\n",
        "    Args:\n",
        "      model (TF Keras Model) - model that accepts data windows\n",
        "      series (array of float) - contains the values of the time series\n",
        "      window_size (int) - the number of time steps to include in the window\n",
        "      batch_size (int) - the batch size\n",
        "\n",
        "    Returns:\n",
        "      forecast (numpy array) - array containing predictions\n",
        "    \"\"\"\n",
        "\n",
        "    # Generate a TF Dataset from the series values\n",
        "    dataset = tf.data.Dataset.from_tensor_slices(series)\n",
        "\n",
        "    # Window the data but only take those with the specified size\n",
        "    dataset = dataset.window(window_size, shift=1, drop_remainder=True)\n",
        "    # Flatten the windows by putting its elements in a single batch\n",
        "    dataset = dataset.flat_map(lambda w: w.batch(window_size))\n",
        "    # Create batches of windows\n",
        "    dataset = dataset.batch(batch_size).prefetch(1)\n",
        "    # Get predictions on the entire dataset\n",
        "    forecast = model.predict(dataset)\n",
        "\n",
        "    return forecast"
      ]
    },
    {
      "cell_type": "code",
      "source": [
        "def iterative_forecast(model, series, window_size, batch_size, num_predictions):\n",
        "    predictions = []\n",
        "    input_series = series\n",
        "    for _ in range(num_predictions):\n",
        "        forecast = model_forecast(model, input_series, window_size, batch_size)\n",
        "        next_prediction = forecast[-1]\n",
        "        predictions.append(next_prediction)\n",
        "        # Update the input series by appending the latest prediction\n",
        "        input_series = np.append(input_series, next_prediction)\n",
        "        input_series = input_series[-(window_size + 1):]\n",
        "    return np.array(predictions)"
      ],
      "metadata": {
        "id": "Q6iEH2-18aUj"
      },
      "execution_count": null,
      "outputs": []
    },
    {
      "cell_type": "code",
      "source": [
        "# Get the validation data (last month)\n",
        "x_valid = dff['Close'][split_time:-1]\n",
        "\n",
        "# Prepare the series for forecasting\n",
        "x_train_1 = dff['Close'][split_time-window_size:-30]\n",
        "x_train_1 = np.array(x_train_1).reshape(-1, 1)\n",
        "scaler = MinMaxScaler(feature_range=(0, 1))\n",
        "x_train_1 = scaler.fit_transform(x_train_1)\n",
        "x_train_1 = x_train_1.reshape(-1)\n",
        "forecast_series = x_train_1"
      ],
      "metadata": {
        "id": "jEpYzvkh89_e"
      },
      "execution_count": null,
      "outputs": []
    },
    {
      "cell_type": "code",
      "execution_count": null,
      "metadata": {
        "id": "hFBZlMMm7UAu",
        "colab": {
          "base_uri": "https://localhost:8080/"
        },
        "collapsed": true,
        "outputId": "8be332ca-5796-4458-aa19-85ce0a643781"
      },
      "outputs": [
        {
          "output_type": "stream",
          "name": "stdout",
          "text": [
            "1/1 [==============================] - 2s 2s/step\n",
            "1/1 [==============================] - 0s 40ms/step\n",
            "1/1 [==============================] - 0s 37ms/step\n",
            "1/1 [==============================] - 0s 37ms/step\n",
            "1/1 [==============================] - 0s 37ms/step\n",
            "1/1 [==============================] - 0s 38ms/step\n",
            "1/1 [==============================] - 0s 39ms/step\n",
            "1/1 [==============================] - 0s 44ms/step\n",
            "1/1 [==============================] - 0s 58ms/step\n",
            "1/1 [==============================] - 0s 74ms/step\n",
            "1/1 [==============================] - 0s 72ms/step\n",
            "1/1 [==============================] - 0s 62ms/step\n",
            "1/1 [==============================] - 0s 56ms/step\n",
            "1/1 [==============================] - 0s 51ms/step\n",
            "1/1 [==============================] - 0s 50ms/step\n",
            "1/1 [==============================] - 0s 58ms/step\n",
            "1/1 [==============================] - 0s 55ms/step\n",
            "1/1 [==============================] - 0s 62ms/step\n",
            "1/1 [==============================] - 0s 71ms/step\n",
            "1/1 [==============================] - 0s 68ms/step\n",
            "1/1 [==============================] - 0s 64ms/step\n",
            "1/1 [==============================] - 0s 61ms/step\n",
            "1/1 [==============================] - 0s 58ms/step\n",
            "1/1 [==============================] - 0s 57ms/step\n",
            "1/1 [==============================] - 0s 59ms/step\n",
            "1/1 [==============================] - 0s 60ms/step\n",
            "1/1 [==============================] - 0s 53ms/step\n",
            "1/1 [==============================] - 0s 76ms/step\n",
            "1/1 [==============================] - 0s 69ms/step\n",
            "1/1 [==============================] - 0s 68ms/step\n",
            "Predictions: [[417.26898]\n",
            " [420.13895]\n",
            " [422.8055 ]\n",
            " [425.22794]\n",
            " [426.90683]\n",
            " [429.47482]\n",
            " [431.79086]\n",
            " [433.86743]\n",
            " [434.1779 ]\n",
            " [435.19324]\n",
            " [435.59192]\n",
            " [436.0559 ]\n",
            " [435.319  ]\n",
            " [436.11438]\n",
            " [437.172  ]\n",
            " [436.9497 ]\n",
            " [437.58478]\n",
            " [439.44473]\n",
            " [441.10083]\n",
            " [441.28433]\n",
            " [440.31238]\n",
            " [440.11655]\n",
            " [441.26773]\n",
            " [440.1138 ]\n",
            " [441.34003]\n",
            " [444.4436 ]\n",
            " [445.19022]\n",
            " [446.03857]\n",
            " [445.7232 ]\n",
            " [445.40518]]\n",
            "Actual values: 9614    409.339996\n",
            "9615    410.540009\n",
            "9616    412.320007\n",
            "9617    414.739990\n",
            "9618    413.720001\n",
            "9619    416.559998\n",
            "9620    423.079987\n",
            "9621    420.989990\n",
            "9622    420.209991\n",
            "9623    425.339996\n",
            "9624    429.040009\n",
            "9625    430.519989\n",
            "9626    427.000000\n",
            "9627    430.160004\n",
            "9628    430.320007\n",
            "9629    429.170013\n",
            "9630    414.670013\n",
            "9631    415.130005\n",
            "9632    413.519989\n",
            "9633    416.070007\n",
            "9634    424.010010\n",
            "9635    424.519989\n",
            "9636    423.850006\n",
            "9637    427.869995\n",
            "9638    432.679993\n",
            "9639    441.059998\n",
            "9640    441.579987\n",
            "9641    442.570007\n",
            "9642    448.369995\n",
            "Name: Close, dtype: float64\n"
          ]
        }
      ],
      "source": [
        "\n",
        "num_predictions = 30\n",
        "predictions = iterative_forecast(model, forecast_series, window_size, batch_size, num_predictions)\n",
        "\n",
        "# Denormalize the predictions\n",
        "predictions = predictions.reshape(-1, 1)\n",
        "denormalized_predictions = scaler.inverse_transform(predictions)\n",
        "\n",
        "\n",
        "# Print or return results\n",
        "print(\"Predictions:\", denormalized_predictions)\n",
        "print(\"Actual values:\", x_valid)"
      ]
    },
    {
      "cell_type": "code",
      "execution_count": null,
      "metadata": {
        "id": "5-MUVehNrJ_f",
        "colab": {
          "base_uri": "https://localhost:8080/"
        },
        "outputId": "8ce9e028-dc8d-482e-ebce-19457016afe8"
      },
      "outputs": [
        {
          "output_type": "stream",
          "name": "stdout",
          "text": [
            "    Predictions\n",
            "0    417.268982\n",
            "1    420.138947\n",
            "2    422.805511\n",
            "3    425.227936\n",
            "4    426.906830\n",
            "5    429.474823\n",
            "6    431.790863\n",
            "7    433.867432\n",
            "8    434.177887\n",
            "9    435.193237\n",
            "10   435.591919\n",
            "11   436.055908\n",
            "12   435.319000\n",
            "13   436.114380\n",
            "14   437.171997\n",
            "15   436.949707\n",
            "16   437.584778\n",
            "17   439.444733\n",
            "18   441.100830\n",
            "19   441.284332\n",
            "20   440.312378\n",
            "21   440.116547\n",
            "22   441.267731\n",
            "23   440.113800\n",
            "24   441.340027\n",
            "25   444.443604\n",
            "26   445.190216\n",
            "27   446.038574\n",
            "28   445.723206\n",
            "29   445.405182\n",
            "test\n",
            "0     409.339996\n",
            "1     410.540009\n",
            "2     412.320007\n",
            "3     414.739990\n",
            "4     413.720001\n",
            "5     416.559998\n",
            "6     423.079987\n",
            "7     420.989990\n",
            "8     420.209991\n",
            "9     425.339996\n",
            "10    429.040009\n",
            "11    430.519989\n",
            "12    427.000000\n",
            "13    430.160004\n",
            "14    430.320007\n",
            "15    429.170013\n",
            "16    414.670013\n",
            "17    415.130005\n",
            "18    413.519989\n",
            "19    416.070007\n",
            "20    424.010010\n",
            "21    424.519989\n",
            "22    423.850006\n",
            "23    427.869995\n",
            "24    432.679993\n",
            "25    441.059998\n",
            "26    441.579987\n",
            "27    442.570007\n",
            "28    448.369995\n",
            "Name: Close, dtype: float64\n"
          ]
        }
      ],
      "source": [
        "results=denormalized_predictions\n",
        "results_df = pd.DataFrame(results, columns=['Predictions'])\n",
        "print(results_df)\n",
        "print('test')\n",
        "x_valid.reset_index(drop=True,inplace=True)\n",
        "print(x_valid)"
      ]
    },
    {
      "cell_type": "code",
      "execution_count": null,
      "metadata": {
        "id": "dLexAY0grH4C",
        "colab": {
          "base_uri": "https://localhost:8080/",
          "height": 433
        },
        "outputId": "65024dc2-2471-42f5-a81b-f1991682edf8"
      },
      "outputs": [
        {
          "output_type": "display_data",
          "data": {
            "text/plain": [
              "<Figure size 640x480 with 1 Axes>"
            ],
            "image/png": "[encoded data removed]"
          },
          "metadata": {}
        }
      ],
      "source": [
        "\n",
        "#results.reset_index()\n",
        "\n",
        "plt.plot((x_valid))\n",
        "plt.plot(results_df)\n",
        "plt.show()"
      ]
    },
    {
      "cell_type": "code",
      "execution_count": null,
      "metadata": {
        "id": "gMdtXfBhsb9y"
      },
      "outputs": [],
      "source": []
    },
    {
      "cell_type": "code",
      "execution_count": null,
      "metadata": {
        "id": "-IKhueZaBGID",
        "colab": {
          "base_uri": "https://localhost:8080/"
        },
        "outputId": "d3c870eb-9b5e-44d4-ce7d-f381607a71a5"
      },
      "outputs": [
        {
          "output_type": "stream",
          "name": "stdout",
          "text": [
            "[153.20702 120.24498 104.38252 102.30007 107.74249 126.97303 155.62843\n",
            " 190.4425  196.3884  217.18077 225.90874 236.46669 219.89967 237.82774\n",
            " 263.6265  258.01843 274.30252 326.63498 379.0545  385.2004  353.414\n",
            " 347.23828 384.6416  347.15222 387.07904 501.57166 531.98914 567.90497\n",
            " 554.38556 540.95374]\n",
            "[ 9.665832  8.775153  8.251808  8.210132  8.491868  9.266989 10.606771\n",
            " 12.049174 12.273987 13.00924  13.297941 13.633933 13.10031  13.676275\n",
            " 14.442136 14.281167 14.741046 16.08791  17.289968 17.435505 16.716204\n",
            " 16.574396 17.422338 16.572407 17.479677 20.26784  20.96296  21.752811\n",
            " 21.45919  21.163101]\n"
          ]
        }
      ],
      "source": [
        "# Compute the MSE and MAE\n",
        "print(tf.keras.metrics.mean_squared_error(x_valid, results_df).numpy())\n",
        "print(tf.keras.metrics.mean_absolute_error(x_valid, results_df).numpy())\n"
      ]
    },
    {
      "cell_type": "code",
      "execution_count": 2,
      "metadata": {
        "id": "4l64Mm6atf2o",
        "colab": {
          "base_uri": "https://localhost:8080/"
        },
        "outputId": "d547c9c0-eccd-47c5-8027-3d4838dee473"
      },
      "outputs": [
        {
          "output_type": "stream",
          "name": "stdout",
          "text": [
            "11.529645241379315\n"
          ]
        }
      ],
      "source": [
        "import numpy as np\n",
        "predictions = [417.268982, 420.138947, 422.805511, 425.227936, 426.906830, 429.474823, 431.790863, 433.867432, 434.177887, 435.193237, 435.591919, 436.055908, 435.319000, 436.114380, 437.171997, 436.949707, 437.584778, 439.444733, 441.100830, 441.284332, 440.312378, 440.116547, 441.267731, 440.113800, 441.340027, 444.443604, 445.190216, 446.038574, 445.723206]\n",
        "test = [409.339996, 410.540009, 412.320007, 414.739990, 413.720001, 416.559998, 423.079987, 420.989990, 420.209991, 425.339996, 429.040009, 430.519989, 427.000000, 430.160004, 430.320007, 429.170013, 414.670013, 415.130005, 413.519989, 416.070007, 424.010010, 424.519989, 423.850006, 427.869995, 432.679993, 441.059998, 441.579987, 442.570007, 448.369995]\n",
        "\n",
        "new_predictions_array = np.array(predictions)\n",
        "test_array = np.array(test)\n",
        "\n",
        "# Calculate absolute mean error\n",
        "absolute_errors = np.abs(new_predictions_array - test_array)\n",
        "absolute_mean_error = np.mean(absolute_errors)\n",
        "print(absolute_mean_error)"
      ]
    },
    {
      "cell_type": "code",
      "source": [],
      "metadata": {
        "id": "Lu9IlGMFhgD7"
      },
      "execution_count": null,
      "outputs": []
    }
  ]
}