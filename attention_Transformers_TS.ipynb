{
  "nbformat": 4,
  "nbformat_minor": 0,
  "metadata": {
    "colab": {
      "provenance": []
    },
    "kernelspec": {
      "name": "python3",
      "display_name": "Python 3"
    },
    "language_info": {
      "name": "python"
    }
  },
  "cells": [
    {
      "cell_type": "code",
      "execution_count": null,
      "metadata": {
        "id": "iz_7-ld33Ytw",
        "colab": {
          "base_uri": "https://localhost:8080/"
        },
        "outputId": "793848e1-9fef-4160-8f06-8cd10a328741"
      },
      "outputs": [
        {
          "output_type": "stream",
          "name": "stdout",
          "text": [
            "Starting file:\n",
            "         Date      Open      High       Low     Close  Adj Close      Volume\n",
            "0  1986-03-13  0.088542  0.101563  0.088542  0.097222   0.060163  1031788800\n",
            "1  1986-03-14  0.097222  0.102431  0.097222  0.100694   0.062311   308160000\n",
            "2  1986-03-17  0.100694  0.103299  0.100694  0.102431   0.063386   133171200\n",
            "3  1986-03-18  0.102431  0.103299  0.098958  0.099826   0.061774    67766400\n",
            "4  1986-03-19  0.099826  0.100694  0.097222  0.098090   0.060700    47894400\n",
            "5  1986-03-20  0.098090  0.098090  0.094618  0.095486   0.059089    58435200\n",
            "6  1986-03-21  0.095486  0.097222  0.091146  0.092882   0.057477    59990400\n",
            "7  1986-03-24  0.092882  0.092882  0.089410  0.090278   0.055866    65289600\n",
            "8  1986-03-25  0.090278  0.092014  0.089410  0.092014   0.056940    32083200\n",
            "9  1986-03-26  0.092014  0.095486  0.091146  0.094618   0.058551    22752000\n",
            "Ending file:\n",
            "            Date        Open        High         Low       Close   Adj Close  \\\n",
            "9634  2024-06-05  417.809998  424.079987  416.299988  424.010010  424.010010   \n",
            "9635  2024-06-06  424.010010  425.309998  420.579987  424.519989  424.519989   \n",
            "9636  2024-06-07  426.200012  426.279999  423.000000  423.850006  423.850006   \n",
            "9637  2024-06-10  424.700012  428.079987  423.890015  427.869995  427.869995   \n",
            "9638  2024-06-11  425.480011  432.820007  425.250000  432.679993  432.679993   \n",
            "9639  2024-06-12  435.320007  443.399994  433.250000  441.059998  441.059998   \n",
            "9640  2024-06-13  440.850006  443.390015  439.369995  441.579987  441.579987   \n",
            "9641  2024-06-14  438.279999  443.140015  436.720001  442.570007  442.570007   \n",
            "9642  2024-06-17  442.589996  450.940002  440.720001  448.369995  448.369995   \n",
            "9643  2024-06-18  449.709991  450.140015  444.890015  446.339996  446.339996   \n",
            "\n",
            "        Volume  \n",
            "9634  16988000  \n",
            "9635  14861300  \n",
            "9636  13621700  \n",
            "9637  14003000  \n",
            "9638  14551100  \n",
            "9639  22366200  \n",
            "9640  15960600  \n",
            "9641  13582000  \n",
            "9642  20790000  \n",
            "9643  17112500  \n"
          ]
        }
      ],
      "source": [
        "import pandas as pd\n",
        "import os\n",
        "import tensorflow as tf\n",
        "\n",
        "\n",
        "dff= pd.read_csv(\"MSFT.csv\")\n",
        "\n",
        "print(\"Starting file:\")\n",
        "print(dff[0:10])\n",
        "\n",
        "print(\"Ending file:\")\n",
        "print(dff[-10:])"
      ]
    },
    {
      "cell_type": "code",
      "source": [
        "df= dff[['Close']]  # Select  'Close' columns\n",
        "df.head()"
      ],
      "metadata": {
        "colab": {
          "base_uri": "https://localhost:8080/",
          "height": 206
        },
        "id": "LKBCHytY6O-X",
        "outputId": "9c36f438-849c-4a3e-e7a3-b29bcafac9f5"
      },
      "execution_count": null,
      "outputs": [
        {
          "output_type": "execute_result",
          "data": {
            "text/plain": [
              "      Close\n",
              "0  0.097222\n",
              "1  0.100694\n",
              "2  0.102431\n",
              "3  0.099826\n",
              "4  0.098090"
            ],
            "text/html": [
              "\n",
              "  <div id=\"df-a402b201-489f-4b12-b3bf-6629b188264e\" class=\"colab-df-container\">\n",
              "    <div>\n",
              "<style scoped>\n",
              "    .dataframe tbody tr th:only-of-type {\n",
              "        vertical-align: middle;\n",
              "    }\n",
              "\n",
              "    .dataframe tbody tr th {\n",
              "        vertical-align: top;\n",
              "    }\n",
              "\n",
              "    .dataframe thead th {\n",
              "        text-align: right;\n",
              "    }\n",
              "</style>\n",
              "<table border=\"1\" class=\"dataframe\">\n",
              "  <thead>\n",
              "    <tr style=\"text-align: right;\">\n",
              "      <th></th>\n",
              "      <th>Close</th>\n",
              "    </tr>\n",
              "  </thead>\n",
              "  <tbody>\n",
              "    <tr>\n",
              "      <th>0</th>\n",
              "      <td>0.097222</td>\n",
              "    </tr>\n",
              "    <tr>\n",
              "      <th>1</th>\n",
              "      <td>0.100694</td>\n",
              "    </tr>\n",
              "    <tr>\n",
              "      <th>2</th>\n",
              "      <td>0.102431</td>\n",
              "    </tr>\n",
              "    <tr>\n",
              "      <th>3</th>\n",
              "      <td>0.099826</td>\n",
              "    </tr>\n",
              "    <tr>\n",
              "      <th>4</th>\n",
              "      <td>0.098090</td>\n",
              "    </tr>\n",
              "  </tbody>\n",
              "</table>\n",
              "</div>\n",
              "    <div class=\"colab-df-buttons\">\n",
              "\n",
              "  <div class=\"colab-df-container\">\n",
              "    <button class=\"colab-df-convert\" onclick=\"convertToInteractive('df-a402b201-489f-4b12-b3bf-6629b188264e')\"\n",
              "            title=\"Convert this dataframe to an interactive table.\"\n",
              "            style=\"display:none;\">\n",
              "\n",
              "  <svg xmlns=\"http://www.w3.org/2000/svg\" height=\"24px\" viewBox=\"0 -960 960 960\">\n",
              "    <path d=\"M120-120v-720h720v720H120Zm60-500h600v-160H180v160Zm220 220h160v-160H400v160Zm0 220h160v-160H400v160ZM180-400h160v-160H180v160Zm440 0h160v-160H620v160ZM180-180h160v-160H180v160Zm440 0h160v-160H620v160Z\"/>\n",
              "  </svg>\n",
              "    </button>\n",
              "\n",
              "  <style>\n",
              "    .colab-df-container {\n",
              "      display:flex;\n",
              "      gap: 12px;\n",
              "    }\n",
              "\n",
              "    .colab-df-convert {\n",
              "      background-color: #E8F0FE;\n",
              "      border: none;\n",
              "      border-radius: 50%;\n",
              "      cursor: pointer;\n",
              "      display: none;\n",
              "      fill: #1967D2;\n",
              "      height: 32px;\n",
              "      padding: 0 0 0 0;\n",
              "      width: 32px;\n",
              "    }\n",
              "\n",
              "    .colab-df-convert:hover {\n",
              "      background-color: #E2EBFA;\n",
              "      box-shadow: 0px 1px 2px rgba(60, 64, 67, 0.3), 0px 1px 3px 1px rgba(60, 64, 67, 0.15);\n",
              "      fill: #174EA6;\n",
              "    }\n",
              "\n",
              "    .colab-df-buttons div {\n",
              "      margin-bottom: 4px;\n",
              "    }\n",
              "\n",
              "    [theme=dark] .colab-df-convert {\n",
              "      background-color: #3B4455;\n",
              "      fill: #D2E3FC;\n",
              "    }\n",
              "\n",
              "    [theme=dark] .colab-df-convert:hover {\n",
              "      background-color: #434B5C;\n",
              "      box-shadow: 0px 1px 3px 1px rgba(0, 0, 0, 0.15);\n",
              "      filter: drop-shadow(0px 1px 2px rgba(0, 0, 0, 0.3));\n",
              "      fill: #FFFFFF;\n",
              "    }\n",
              "  </style>\n",
              "\n",
              "    <script>\n",
              "      const buttonEl =\n",
              "        document.querySelector('#df-a402b201-489f-4b12-b3bf-6629b188264e button.colab-df-convert');\n",
              "      buttonEl.style.display =\n",
              "        google.colab.kernel.accessAllowed ? 'block' : 'none';\n",
              "\n",
              "      async function convertToInteractive(key) {\n",
              "        const element = document.querySelector('#df-a402b201-489f-4b12-b3bf-6629b188264e');\n",
              "        const dataTable =\n",
              "          await google.colab.kernel.invokeFunction('convertToInteractive',\n",
              "                                                    [key], {});\n",
              "        if (!dataTable) return;\n",
              "\n",
              "        const docLinkHtml = 'Like what you see? Visit the ' +\n",
              "          '<a target=\"_blank\" href=https://colab.research.google.com/notebooks/data_table.ipynb>data table notebook</a>'\n",
              "          + ' to learn more about interactive tables.';\n",
              "        element.innerHTML = '';\n",
              "        dataTable['output_type'] = 'display_data';\n",
              "        await google.colab.output.renderOutput(dataTable, element);\n",
              "        const docLink = document.createElement('div');\n",
              "        docLink.innerHTML = docLinkHtml;\n",
              "        element.appendChild(docLink);\n",
              "      }\n",
              "    </script>\n",
              "  </div>\n",
              "\n",
              "\n",
              "<div id=\"df-e4fee9e1-f1e8-4605-abcb-f4b034699647\">\n",
              "  <button class=\"colab-df-quickchart\" onclick=\"quickchart('df-e4fee9e1-f1e8-4605-abcb-f4b034699647')\"\n",
              "            title=\"Suggest charts\"\n",
              "            style=\"display:none;\">\n",
              "\n",
              "<svg xmlns=\"http://www.w3.org/2000/svg\" height=\"24px\"viewBox=\"0 0 24 24\"\n",
              "     width=\"24px\">\n",
              "    <g>\n",
              "        <path d=\"M19 3H5c-1.1 0-2 .9-2 2v14c0 1.1.9 2 2 2h14c1.1 0 2-.9 2-2V5c0-1.1-.9-2-2-2zM9 17H7v-7h2v7zm4 0h-2V7h2v10zm4 0h-2v-4h2v4z\"/>\n",
              "    </g>\n",
              "</svg>\n",
              "  </button>\n",
              "\n",
              "<style>\n",
              "  .colab-df-quickchart {\n",
              "      --bg-color: #E8F0FE;\n",
              "      --fill-color: #1967D2;\n",
              "      --hover-bg-color: #E2EBFA;\n",
              "      --hover-fill-color: #174EA6;\n",
              "      --disabled-fill-color: #AAA;\n",
              "      --disabled-bg-color: #DDD;\n",
              "  }\n",
              "\n",
              "  [theme=dark] .colab-df-quickchart {\n",
              "      --bg-color: #3B4455;\n",
              "      --fill-color: #D2E3FC;\n",
              "      --hover-bg-color: #434B5C;\n",
              "      --hover-fill-color: #FFFFFF;\n",
              "      --disabled-bg-color: #3B4455;\n",
              "      --disabled-fill-color: #666;\n",
              "  }\n",
              "\n",
              "  .colab-df-quickchart {\n",
              "    background-color: var(--bg-color);\n",
              "    border: none;\n",
              "    border-radius: 50%;\n",
              "    cursor: pointer;\n",
              "    display: none;\n",
              "    fill: var(--fill-color);\n",
              "    height: 32px;\n",
              "    padding: 0;\n",
              "    width: 32px;\n",
              "  }\n",
              "\n",
              "  .colab-df-quickchart:hover {\n",
              "    background-color: var(--hover-bg-color);\n",
              "    box-shadow: 0 1px 2px rgba(60, 64, 67, 0.3), 0 1px 3px 1px rgba(60, 64, 67, 0.15);\n",
              "    fill: var(--button-hover-fill-color);\n",
              "  }\n",
              "\n",
              "  .colab-df-quickchart-complete:disabled,\n",
              "  .colab-df-quickchart-complete:disabled:hover {\n",
              "    background-color: var(--disabled-bg-color);\n",
              "    fill: var(--disabled-fill-color);\n",
              "    box-shadow: none;\n",
              "  }\n",
              "\n",
              "  .colab-df-spinner {\n",
              "    border: 2px solid var(--fill-color);\n",
              "    border-color: transparent;\n",
              "    border-bottom-color: var(--fill-color);\n",
              "    animation:\n",
              "      spin 1s steps(1) infinite;\n",
              "  }\n",
              "\n",
              "  @keyframes spin {\n",
              "    0% {\n",
              "      border-color: transparent;\n",
              "      border-bottom-color: var(--fill-color);\n",
              "      border-left-color: var(--fill-color);\n",
              "    }\n",
              "    20% {\n",
              "      border-color: transparent;\n",
              "      border-left-color: var(--fill-color);\n",
              "      border-top-color: var(--fill-color);\n",
              "    }\n",
              "    30% {\n",
              "      border-color: transparent;\n",
              "      border-left-color: var(--fill-color);\n",
              "      border-top-color: var(--fill-color);\n",
              "      border-right-color: var(--fill-color);\n",
              "    }\n",
              "    40% {\n",
              "      border-color: transparent;\n",
              "      border-right-color: var(--fill-color);\n",
              "      border-top-color: var(--fill-color);\n",
              "    }\n",
              "    60% {\n",
              "      border-color: transparent;\n",
              "      border-right-color: var(--fill-color);\n",
              "    }\n",
              "    80% {\n",
              "      border-color: transparent;\n",
              "      border-right-color: var(--fill-color);\n",
              "      border-bottom-color: var(--fill-color);\n",
              "    }\n",
              "    90% {\n",
              "      border-color: transparent;\n",
              "      border-bottom-color: var(--fill-color);\n",
              "    }\n",
              "  }\n",
              "</style>\n",
              "\n",
              "  <script>\n",
              "    async function quickchart(key) {\n",
              "      const quickchartButtonEl =\n",
              "        document.querySelector('#' + key + ' button');\n",
              "      quickchartButtonEl.disabled = true;  // To prevent multiple clicks.\n",
              "      quickchartButtonEl.classList.add('colab-df-spinner');\n",
              "      try {\n",
              "        const charts = await google.colab.kernel.invokeFunction(\n",
              "            'suggestCharts', [key], {});\n",
              "      } catch (error) {\n",
              "        console.error('Error during call to suggestCharts:', error);\n",
              "      }\n",
              "      quickchartButtonEl.classList.remove('colab-df-spinner');\n",
              "      quickchartButtonEl.classList.add('colab-df-quickchart-complete');\n",
              "    }\n",
              "    (() => {\n",
              "      let quickchartButtonEl =\n",
              "        document.querySelector('#df-e4fee9e1-f1e8-4605-abcb-f4b034699647 button');\n",
              "      quickchartButtonEl.style.display =\n",
              "        google.colab.kernel.accessAllowed ? 'block' : 'none';\n",
              "    })();\n",
              "  </script>\n",
              "</div>\n",
              "\n",
              "    </div>\n",
              "  </div>\n"
            ],
            "application/vnd.google.colaboratory.intrinsic+json": {
              "type": "dataframe",
              "variable_name": "df",
              "summary": "{\n  \"name\": \"df\",\n  \"rows\": 9644,\n  \"fields\": [\n    {\n      \"column\": \"Close\",\n      \"properties\": {\n        \"dtype\": \"number\",\n        \"std\": 87.8014097771512,\n        \"min\": 0.090278,\n        \"max\": 448.369995,\n        \"num_unique_values\": 5911,\n        \"samples\": [\n          258.350006,\n          48.21875,\n          70.099998\n        ],\n        \"semantic_type\": \"\",\n        \"description\": \"\"\n      }\n    }\n  ]\n}"
            }
          },
          "metadata": {},
          "execution_count": 7
        }
      ]
    },
    {
      "cell_type": "code",
      "source": [
        "# Define the split time\n",
        "split_time =-707\n",
        "df_train = dff['Close'][:split_time]\n",
        "df_valid = dff['Close'][split_time:-31].reset_index(drop=True)\n",
        "\n",
        "df_valid"
      ],
      "metadata": {
        "colab": {
          "base_uri": "https://localhost:8080/"
        },
        "id": "jXlBaLZK6xC2",
        "outputId": "eabec6e9-f832-415a-f887-25a086fd31e5"
      },
      "execution_count": null,
      "outputs": [
        {
          "output_type": "execute_result",
          "data": {
            "text/plain": [
              "0      299.089996\n",
              "1      299.720001\n",
              "2      303.589996\n",
              "3      301.880005\n",
              "4      301.829987\n",
              "          ...    \n",
              "671    402.250000\n",
              "672    389.329987\n",
              "673    394.940002\n",
              "674    397.839996\n",
              "675    406.660004\n",
              "Name: Close, Length: 676, dtype: float64"
            ]
          },
          "metadata": {},
          "execution_count": 131
        }
      ]
    },
    {
      "cell_type": "code",
      "source": [
        "import numpy as np\n",
        "\n",
        "def to_sequences(seq_size, obs):\n",
        "    x = []\n",
        "    y = []\n",
        "\n",
        "    for i in range(len(obs)-SEQUENCE_SIZE):\n",
        "        #print(i)\n",
        "        window = obs[i:(i+SEQUENCE_SIZE)]\n",
        "        after_window = obs[i+SEQUENCE_SIZE]\n",
        "        window = [[x] for x in window]\n",
        "        #print(\"{} - {}\".format(window,after_window))\n",
        "        x.append(window)\n",
        "        y.append(after_window)\n",
        "\n",
        "    return np.array(x),np.array(y)\n",
        "\n",
        "\n",
        "SEQUENCE_SIZE = 30\n",
        "x_train,y_train = to_sequences(SEQUENCE_SIZE,df_train)\n",
        "x_test,y_test = to_sequences(SEQUENCE_SIZE,df_valid)\n",
        "\n",
        "print(\"Shape of training set: {}\".format(x_train.shape))\n",
        "print(\"Shape of test set: {}\".format(x_test.shape))"
      ],
      "metadata": {
        "colab": {
          "base_uri": "https://localhost:8080/"
        },
        "id": "JJy_qQ-T-IcW",
        "outputId": "3c769db1-22ae-4048-e5f9-75cd46fa6e2b"
      },
      "execution_count": null,
      "outputs": [
        {
          "output_type": "stream",
          "name": "stdout",
          "text": [
            "Shape of training set: (8907, 30, 1)\n",
            "Shape of test set: (646, 30, 1)\n"
          ]
        }
      ]
    },
    {
      "cell_type": "code",
      "source": [
        "print(x_train.shape)\n"
      ],
      "metadata": {
        "colab": {
          "base_uri": "https://localhost:8080/"
        },
        "id": "2Rol0uP_AYm1",
        "outputId": "0fd7a29b-b5fe-4b34-ac86-0533eadac9f1"
      },
      "execution_count": null,
      "outputs": [
        {
          "output_type": "stream",
          "name": "stdout",
          "text": [
            "(8907, 30, 1)\n"
          ]
        }
      ]
    },
    {
      "cell_type": "code",
      "source": [
        "from tensorflow import keras\n",
        "from tensorflow.keras import layers\n",
        "\n",
        "def transformer_encoder(inputs, head_size, num_heads, ff_dim, dropout=0):\n",
        "    # Normalization and Attention\n",
        "    x = layers.LayerNormalization(epsilon=1e-6)(inputs)\n",
        "    x = layers.MultiHeadAttention(\n",
        "        key_dim=head_size, num_heads=num_heads, dropout=dropout\n",
        "    )(x, x)\n",
        "    x = layers.Dropout(dropout)(x)\n",
        "    res = x + inputs\n",
        "\n",
        "    # Feed Forward Part\n",
        "    x = layers.LayerNormalization(epsilon=1e-6)(res)\n",
        "    x = layers.Conv1D(filters=ff_dim, kernel_size=1, activation=\"relu\")(x)\n",
        "    x = layers.Dropout(dropout)(x)\n",
        "    x = layers.Conv1D(filters=inputs.shape[-1], kernel_size=1)(x)\n",
        "    return x + res"
      ],
      "metadata": {
        "id": "jOLOxPmaDE4N"
      },
      "execution_count": null,
      "outputs": []
    },
    {
      "cell_type": "code",
      "source": [
        "def build_model(\n",
        "    input_shape,\n",
        "    head_size,\n",
        "    num_heads,\n",
        "    ff_dim,\n",
        "    num_transformer_blocks,\n",
        "    mlp_units,\n",
        "    dropout=0,\n",
        "    mlp_dropout=0,\n",
        "):\n",
        "    inputs = keras.Input(shape=input_shape)\n",
        "    x = inputs\n",
        "    for _ in range(num_transformer_blocks):\n",
        "        x = transformer_encoder(x, head_size, num_heads, ff_dim, dropout)\n",
        "\n",
        "    x = layers.GlobalAveragePooling1D(data_format=\"channels_first\")(x)\n",
        "    for dim in mlp_units:\n",
        "        x = layers.Dense(dim, activation=\"relu\")(x)\n",
        "        x = layers.Dropout(mlp_dropout)(x)\n",
        "    outputs = layers.Dense(1)(x)\n",
        "    return keras.Model(inputs, outputs)"
      ],
      "metadata": {
        "id": "MyDqP4Xk58sy"
      },
      "execution_count": null,
      "outputs": []
    },
    {
      "cell_type": "code",
      "source": [
        "input_shape = x_train.shape[1:]\n",
        "\n",
        "model = build_model(\n",
        "    input_shape,\n",
        "    head_size=256,\n",
        "    num_heads=4,\n",
        "    ff_dim=4,\n",
        "    num_transformer_blocks=4,\n",
        "    mlp_units=[128],\n",
        "    mlp_dropout=0.2,\n",
        "    dropout=0.2,\n",
        ")\n",
        "\n",
        "\n",
        "\n",
        "model.compile(\n",
        "    loss=\"mean_squared_error\",\n",
        "    optimizer=keras.optimizers.Adam(learning_rate=2e-5),\n",
        ")\n",
        "\n"
      ],
      "metadata": {
        "id": "he2ETrqo6C7p"
      },
      "execution_count": null,
      "outputs": []
    },
    {
      "cell_type": "code",
      "source": [
        "callbacks = [keras.callbacks.EarlyStopping(patience=10, \\\n",
        "    restore_best_weights=True)]\n",
        "\n",
        "model.fit(\n",
        "    x_train,\n",
        "    y_train,\n",
        "    validation_split=0.2,\n",
        "    epochs=200,\n",
        "    batch_size=64,\n",
        "    callbacks=callbacks,\n",
        ")\n",
        "\n",
        "model.evaluate(x_test, y_test, verbose=1)"
      ],
      "metadata": {
        "colab": {
          "base_uri": "https://localhost:8080/"
        },
        "id": "emqLtnRC_tr4",
        "outputId": "3dd35f9d-86a9-49fd-acd4-3c4d11235b5b"
      },
      "execution_count": null,
      "outputs": [
        {
          "output_type": "stream",
          "name": "stdout",
          "text": [
            "Epoch 1/200\n",
            "112/112 [==============================] - 77s 600ms/step - loss: 459.4659 - val_loss: 6775.3130\n",
            "Epoch 2/200\n",
            "112/112 [==============================] - 64s 574ms/step - loss: 150.4603 - val_loss: 1449.6218\n",
            "Epoch 3/200\n",
            "112/112 [==============================] - 63s 561ms/step - loss: 66.5775 - val_loss: 249.0223\n",
            "Epoch 4/200\n",
            "112/112 [==============================] - 63s 557ms/step - loss: 52.6093 - val_loss: 122.6515\n",
            "Epoch 5/200\n",
            "112/112 [==============================] - 62s 554ms/step - loss: 51.3907 - val_loss: 103.2530\n",
            "Epoch 6/200\n",
            "112/112 [==============================] - 63s 559ms/step - loss: 49.8273 - val_loss: 89.0434\n",
            "Epoch 7/200\n",
            "112/112 [==============================] - 61s 547ms/step - loss: 51.0723 - val_loss: 69.5039\n",
            "Epoch 8/200\n",
            "112/112 [==============================] - 67s 597ms/step - loss: 47.2247 - val_loss: 61.7298\n",
            "Epoch 9/200\n",
            "112/112 [==============================] - 63s 560ms/step - loss: 44.9612 - val_loss: 50.9400\n",
            "Epoch 10/200\n",
            "112/112 [==============================] - 68s 611ms/step - loss: 45.3019 - val_loss: 45.3630\n",
            "Epoch 11/200\n",
            "112/112 [==============================] - 68s 612ms/step - loss: 42.5151 - val_loss: 48.3353\n",
            "Epoch 12/200\n",
            "112/112 [==============================] - 63s 562ms/step - loss: 38.8444 - val_loss: 55.6428\n",
            "Epoch 13/200\n",
            "112/112 [==============================] - 61s 544ms/step - loss: 38.3057 - val_loss: 64.2811\n",
            "Epoch 14/200\n",
            "112/112 [==============================] - 61s 548ms/step - loss: 36.5477 - val_loss: 82.8180\n",
            "Epoch 15/200\n",
            "112/112 [==============================] - 62s 550ms/step - loss: 35.7139 - val_loss: 108.2692\n",
            "Epoch 16/200\n",
            "112/112 [==============================] - 61s 544ms/step - loss: 33.4209 - val_loss: 79.1578\n",
            "Epoch 17/200\n",
            "112/112 [==============================] - 62s 553ms/step - loss: 33.7840 - val_loss: 159.4672\n",
            "Epoch 18/200\n",
            "112/112 [==============================] - 68s 612ms/step - loss: 32.3856 - val_loss: 168.3447\n",
            "Epoch 19/200\n",
            "112/112 [==============================] - 65s 581ms/step - loss: 31.0768 - val_loss: 190.2831\n",
            "Epoch 20/200\n",
            "112/112 [==============================] - 68s 608ms/step - loss: 29.5764 - val_loss: 255.8801\n",
            "21/21 [==============================] - 2s 84ms/step - loss: 392.8636\n"
          ]
        },
        {
          "output_type": "execute_result",
          "data": {
            "text/plain": [
              "392.8635559082031"
            ]
          },
          "metadata": {},
          "execution_count": 16
        }
      ]
    },
    {
      "cell_type": "code",
      "source": [
        "from sklearn import metrics\n",
        "\n",
        "pred = model.predict(x_test)\n",
        "score = np.sqrt(metrics.mean_squared_error(pred,y_test))\n",
        "print(\"Score (RMSE): {}\".format(score))"
      ],
      "metadata": {
        "colab": {
          "base_uri": "https://localhost:8080/"
        },
        "id": "tm9QjP0D_zsm",
        "outputId": "7a0eb4d4-305b-4a9d-98e0-d3e7ec0a7153"
      },
      "execution_count": null,
      "outputs": [
        {
          "output_type": "stream",
          "name": "stdout",
          "text": [
            "21/21 [==============================] - 2s 90ms/step\n",
            "Score (RMSE): 19.820786131253943\n"
          ]
        }
      ]
    },
    {
      "cell_type": "code",
      "source": [
        "#FORECASTING"
      ],
      "metadata": {
        "id": "-LP2fGYd2DFO"
      },
      "execution_count": null,
      "outputs": []
    },
    {
      "cell_type": "code",
      "source": [
        "# Define the split time\n",
        "split_time =-32\n",
        "df_train = dff['Close'][:split_time]\n",
        "df_valid = dff['Close'][split_time:-1].reset_index(drop=True)\n",
        "\n",
        "df_valid"
      ],
      "metadata": {
        "colab": {
          "base_uri": "https://localhost:8080/"
        },
        "id": "kn7KxPu8L_Xh",
        "outputId": "b14bbbf8-6ca4-4676-c5fd-bdc206e9d690"
      },
      "execution_count": null,
      "outputs": [
        {
          "output_type": "execute_result",
          "data": {
            "text/plain": [
              "0     406.660004\n",
              "1     413.540009\n",
              "2     409.339996\n",
              "3     410.540009\n",
              "4     412.320007\n",
              "5     414.739990\n",
              "6     413.720001\n",
              "7     416.559998\n",
              "8     423.079987\n",
              "9     420.989990\n",
              "10    420.209991\n",
              "11    425.339996\n",
              "12    429.040009\n",
              "13    430.519989\n",
              "14    427.000000\n",
              "15    430.160004\n",
              "16    430.320007\n",
              "17    429.170013\n",
              "18    414.670013\n",
              "19    415.130005\n",
              "20    413.519989\n",
              "21    416.070007\n",
              "22    424.010010\n",
              "23    424.519989\n",
              "24    423.850006\n",
              "25    427.869995\n",
              "26    432.679993\n",
              "27    441.059998\n",
              "28    441.579987\n",
              "29    442.570007\n",
              "30    448.369995\n",
              "Name: Close, dtype: float64"
            ]
          },
          "metadata": {},
          "execution_count": 136
        }
      ]
    },
    {
      "cell_type": "code",
      "source": [
        "import numpy as np\n",
        "\n",
        "def to_sequences(seq_size, obs):\n",
        "    x = []\n",
        "    y = []\n",
        "\n",
        "    for i in range(len(obs)-SEQUENCE_SIZE):\n",
        "        #print(i)\n",
        "        window = obs[i:(i+SEQUENCE_SIZE)]\n",
        "        after_window = obs[i+SEQUENCE_SIZE]\n",
        "        window = [[x] for x in window]\n",
        "        #print(\"{} - {}\".format(window,after_window))\n",
        "        x.append(window)\n",
        "        y.append(after_window)\n",
        "\n",
        "    return np.array(x),np.array(y)\n",
        "\n",
        "\n",
        "SEQUENCE_SIZE = 30\n",
        "x_train,y_train = to_sequences(SEQUENCE_SIZE,df_train)\n",
        "x_test,y_test = to_sequences(SEQUENCE_SIZE,df_valid)\n",
        "\n",
        "print(\"Shape of training set: {}\".format(x_train.shape))\n",
        "print(\"Shape of test set: {}\".format(x_test.shape))"
      ],
      "metadata": {
        "colab": {
          "base_uri": "https://localhost:8080/"
        },
        "id": "4NmOKAtP2KtZ",
        "outputId": "7771b0cb-466e-451b-c991-33192fba4434"
      },
      "execution_count": null,
      "outputs": [
        {
          "output_type": "stream",
          "name": "stdout",
          "text": [
            "Shape of training set: (9582, 30, 1)\n",
            "Shape of test set: (1, 30, 1)\n"
          ]
        }
      ]
    },
    {
      "cell_type": "code",
      "source": [
        "from tensorflow import keras\n",
        "from tensorflow.keras import layers\n",
        "\n",
        "def transformer_encoder(inputs, head_size, num_heads, ff_dim, dropout=0):\n",
        "    # Normalization and Attention\n",
        "    x = layers.LayerNormalization(epsilon=1e-6)(inputs)\n",
        "    x = layers.MultiHeadAttention(\n",
        "        key_dim=head_size, num_heads=num_heads, dropout=dropout\n",
        "    )(x, x)\n",
        "    x = layers.Dropout(dropout)(x)\n",
        "    res = x + inputs\n",
        "\n",
        "    # Feed Forward Part\n",
        "    x = layers.LayerNormalization(epsilon=1e-6)(res)\n",
        "    x = layers.Conv1D(filters=ff_dim, kernel_size=1, activation=\"relu\")(x)\n",
        "    x = layers.Dropout(dropout)(x)\n",
        "    x = layers.Conv1D(filters=inputs.shape[-1], kernel_size=1)(x)\n",
        "    return x + res"
      ],
      "metadata": {
        "id": "1RumhndaA8Ck"
      },
      "execution_count": null,
      "outputs": []
    },
    {
      "cell_type": "code",
      "source": [
        "def build_model(\n",
        "    input_shape,\n",
        "    head_size,\n",
        "    num_heads,\n",
        "    ff_dim,\n",
        "    num_transformer_blocks,\n",
        "    mlp_units,\n",
        "    dropout=0,\n",
        "    mlp_dropout=0,\n",
        "):\n",
        "    inputs = keras.Input(shape=input_shape)\n",
        "    x = inputs\n",
        "    for _ in range(num_transformer_blocks):\n",
        "        x = transformer_encoder(x, head_size, num_heads, ff_dim, dropout)\n",
        "\n",
        "    x = layers.GlobalAveragePooling1D(data_format=\"channels_first\")(x)\n",
        "    for dim in mlp_units:\n",
        "        x = layers.Dense(dim, activation=\"relu\")(x)\n",
        "        x = layers.Dropout(mlp_dropout)(x)\n",
        "    outputs = layers.Dense(1)(x)\n",
        "    return keras.Model(inputs, outputs)"
      ],
      "metadata": {
        "id": "AopvOIcAA_Af"
      },
      "execution_count": null,
      "outputs": []
    },
    {
      "cell_type": "code",
      "source": [
        "input_shape = x_train.shape[1:]\n",
        "\n",
        "model = build_model(\n",
        "    input_shape,\n",
        "    head_size=256,\n",
        "    num_heads=4,\n",
        "    ff_dim=4,\n",
        "    num_transformer_blocks=4,\n",
        "    mlp_units=[128],\n",
        "    mlp_dropout=0.2,\n",
        "    dropout=0.2,\n",
        ")\n",
        "\n",
        "\n",
        "\n",
        "model.compile(\n",
        "    loss=\"mean_squared_error\",\n",
        "    optimizer=keras.optimizers.Adam(learning_rate=2e-5),\n",
        ")\n",
        "\n"
      ],
      "metadata": {
        "id": "CVheaimUY8CQ"
      },
      "execution_count": null,
      "outputs": []
    },
    {
      "cell_type": "code",
      "source": [
        "callbacks = [keras.callbacks.EarlyStopping(patience=10, \\\n",
        "    restore_best_weights=True)]\n",
        "\n",
        "model.fit(\n",
        "    x_train,\n",
        "    y_train,\n",
        "    validation_split=0.2,\n",
        "    epochs=200,\n",
        "    batch_size=64,\n",
        "    callbacks=callbacks,\n",
        ")\n"
      ],
      "metadata": {
        "colab": {
          "base_uri": "https://localhost:8080/"
        },
        "id": "_3u8uOfIZC3Q",
        "outputId": "9ee0ed27-a7ce-4943-ad55-95e3f1123428"
      },
      "execution_count": null,
      "outputs": [
        {
          "output_type": "stream",
          "name": "stdout",
          "text": [
            "Epoch 1/200\n",
            "120/120 [==============================] - 80s 592ms/step - loss: 473.9762 - val_loss: 13441.9346\n",
            "Epoch 2/200\n",
            "120/120 [==============================] - 71s 593ms/step - loss: 149.0647 - val_loss: 2021.0980\n",
            "Epoch 3/200\n",
            "120/120 [==============================] - 70s 588ms/step - loss: 77.3945 - val_loss: 354.1902\n",
            "Epoch 4/200\n",
            "120/120 [==============================] - 70s 581ms/step - loss: 75.1361 - val_loss: 182.6381\n",
            "Epoch 5/200\n",
            "120/120 [==============================] - 71s 589ms/step - loss: 66.9288 - val_loss: 140.2717\n",
            "Epoch 6/200\n",
            "120/120 [==============================] - 70s 585ms/step - loss: 68.4381 - val_loss: 120.8968\n",
            "Epoch 7/200\n",
            "120/120 [==============================] - 73s 608ms/step - loss: 65.6559 - val_loss: 100.4804\n",
            "Epoch 8/200\n",
            "120/120 [==============================] - 72s 599ms/step - loss: 63.2184 - val_loss: 119.7105\n",
            "Epoch 9/200\n",
            "120/120 [==============================] - 67s 553ms/step - loss: 61.1876 - val_loss: 114.6646\n",
            "Epoch 10/200\n",
            "120/120 [==============================] - 71s 590ms/step - loss: 59.0564 - val_loss: 275.2491\n",
            "Epoch 11/200\n",
            "120/120 [==============================] - 67s 559ms/step - loss: 52.2831 - val_loss: 232.0420\n",
            "Epoch 12/200\n",
            "120/120 [==============================] - 67s 562ms/step - loss: 51.6886 - val_loss: 383.5217\n",
            "Epoch 13/200\n",
            "120/120 [==============================] - 71s 589ms/step - loss: 53.8057 - val_loss: 494.5866\n",
            "Epoch 14/200\n",
            "120/120 [==============================] - 71s 593ms/step - loss: 50.0625 - val_loss: 580.0920\n",
            "Epoch 15/200\n",
            "120/120 [==============================] - 71s 596ms/step - loss: 47.7634 - val_loss: 904.4596\n",
            "Epoch 16/200\n",
            "120/120 [==============================] - 66s 554ms/step - loss: 44.7732 - val_loss: 782.5348\n",
            "Epoch 17/200\n",
            "120/120 [==============================] - 66s 553ms/step - loss: 43.9562 - val_loss: 941.6830\n"
          ]
        },
        {
          "output_type": "execute_result",
          "data": {
            "text/plain": [
              "<keras.src.callbacks.History at 0x7dc58fb800a0>"
            ]
          },
          "metadata": {},
          "execution_count": 105
        }
      ]
    },
    {
      "cell_type": "code",
      "source": [],
      "metadata": {
        "id": "b--cFt1wY32T"
      },
      "execution_count": null,
      "outputs": []
    },
    {
      "cell_type": "code",
      "source": [
        "def iterative_forecast(model, initial_input, steps=30):\n",
        "    forecast = []\n",
        "    current_input = initial_input.reshape(1, -1, 1)  # Reshape to (1, time steps, features)\n",
        "\n",
        "    for _ in range(steps):\n",
        "        prediction = model.predict(current_input)[0, 0]  # Remove extra dimension after prediction\n",
        "        forecast.append(prediction)\n",
        "\n",
        "        # Update the input for the next prediction\n",
        "        current_input = np.roll(current_input, -1, axis=1) # Shift the input one step back along time axis\n",
        "        current_input[0, -1, 0] = prediction # Replace the last value with the prediction\n",
        "\n",
        "\n",
        "    return np.array(forecast)\n",
        "\n",
        "# Get the most recent data to start the prediction\n",
        "from sklearn.preprocessing import MinMaxScaler\n",
        "\n",
        "# Scale data\n",
        "#scaler = MinMaxScaler()\n",
        "#x_train= scaler.fit_transform(x_train.reshape(-1, 1)).reshape(x_train.shape)\n",
        "#y_train_scaled = scaler.fit_transform(y_train.reshape(-1, 1)).reshape(y_train.shape)\n",
        "\n",
        "initial_input = x_train[-1, -input_shape[0]:]\n",
        "\n",
        "#Perform the iterative forecast\n",
        "forecast = iterative_forecast(model, initial_input, steps=30)\n",
        "print(forecast)\n",
        "# Denormalize the predictions\n",
        "#forecast_1 = forecast.reshape(-1, 1)\n",
        "#denormalized_predictions = scaler.inverse_transform(forecast_1)\n",
        "#print(denormalized_predictions)"
      ],
      "metadata": {
        "colab": {
          "base_uri": "https://localhost:8080/"
        },
        "id": "ZE8JvFsLSGRU",
        "outputId": "aa2a21f0-9e4e-479a-da5a-d814cf36a8ab"
      },
      "execution_count": null,
      "outputs": [
        {
          "output_type": "stream",
          "name": "stdout",
          "text": [
            "1/1 [==============================] - 0s 30ms/step\n",
            "1/1 [==============================] - 0s 29ms/step\n",
            "1/1 [==============================] - 0s 29ms/step\n",
            "1/1 [==============================] - 0s 30ms/step\n",
            "1/1 [==============================] - 0s 31ms/step\n",
            "1/1 [==============================] - 0s 39ms/step\n",
            "1/1 [==============================] - 0s 27ms/step\n",
            "1/1 [==============================] - 0s 27ms/step\n",
            "1/1 [==============================] - 0s 25ms/step\n",
            "1/1 [==============================] - 0s 24ms/step\n",
            "1/1 [==============================] - 0s 28ms/step\n",
            "1/1 [==============================] - 0s 28ms/step\n",
            "1/1 [==============================] - 0s 28ms/step\n",
            "1/1 [==============================] - 0s 26ms/step\n",
            "1/1 [==============================] - 0s 27ms/step\n",
            "1/1 [==============================] - 0s 27ms/step\n",
            "1/1 [==============================] - 0s 28ms/step\n",
            "1/1 [==============================] - 0s 37ms/step\n",
            "1/1 [==============================] - 0s 26ms/step\n",
            "1/1 [==============================] - 0s 26ms/step\n",
            "1/1 [==============================] - 0s 28ms/step\n",
            "1/1 [==============================] - 0s 28ms/step\n",
            "1/1 [==============================] - 0s 28ms/step\n",
            "1/1 [==============================] - 0s 26ms/step\n",
            "1/1 [==============================] - 0s 36ms/step\n",
            "1/1 [==============================] - 0s 26ms/step\n",
            "1/1 [==============================] - 0s 26ms/step\n",
            "1/1 [==============================] - 0s 28ms/step\n",
            "1/1 [==============================] - 0s 33ms/step\n",
            "1/1 [==============================] - 0s 28ms/step\n",
            "[425.62592 428.92725 426.3989  427.5403  429.56458 432.30005 428.92633\n",
            " 428.7851  431.60538 431.7228  420.03497 413.74606 419.22107 420.25577\n",
            " 417.9411  420.878   426.91214 431.80255 427.2162  420.88864 426.94772\n",
            " 432.38016 425.89236 423.25394 433.454   434.1812  425.08005 419.2269\n",
            " 427.17767 436.62628]\n"
          ]
        }
      ]
    },
    {
      "cell_type": "code",
      "source": [
        "forecast = forecast.squeeze()  # Removes the single-dimensional entries from the shape of an array.\n",
        "x_test = x_test.squeeze()\n"
      ],
      "metadata": {
        "id": "JuYpF46oUYTL"
      },
      "execution_count": null,
      "outputs": []
    },
    {
      "cell_type": "code",
      "source": [
        "|print(tf.keras.metrics.mean_squared_error(x_test, forecast).numpy())\n",
        "print(tf.keras.metrics.mean_absolute_error(x_test, forecast).numpy())"
      ],
      "metadata": {
        "colab": {
          "base_uri": "https://localhost:8080/"
        },
        "id": "bkEzdTFiVfjI",
        "outputId": "5da066dd-d5d8-4bf0-8b76-c653695e6410"
      },
      "execution_count": null,
      "outputs": [
        {
          "output_type": "stream",
          "name": "stdout",
          "text": [
            "147.5022\n",
            "10.767515\n"
          ]
        }
      ]
    },
    {
      "cell_type": "code",
      "source": [],
      "metadata": {
        "id": "bdHXhJ6V2R15"
      },
      "execution_count": null,
      "outputs": []
    }
  ]
}